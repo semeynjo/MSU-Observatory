{
 "cells": [
  {
   "cell_type": "markdown",
   "metadata": {},
   "source": [
    "# Michigan State Campus Observatory Submission Script"
   ]
  },
  {
   "cell_type": "code",
   "execution_count": null,
   "metadata": {
    "collapsed": true
   },
   "outputs": [],
   "source": [
    "import magnitude as mg #input the class created \n",
    "import matplotlib.pyplot as plt #used for the plots\n",
    "import numpy as np  #used for the math\n",
    "\n",
    "%matplotlib inline"
   ]
  },
  {
   "cell_type": "code",
   "execution_count": null,
   "metadata": {},
   "outputs": [],
   "source": [
    "#initializes the class to calculate the magnitudes\n",
    "mag = mg.MagnitudeCalculation()\n",
    "#will prompt for the comparison stars you used and the name of the source\n",
    "#the filter input is not cap sensitive "
   ]
  },
  {
   "cell_type": "code",
   "execution_count": null,
   "metadata": {},
   "outputs": [],
   "source": [
    "#Comparison star information\n",
    "#Currently supports 1-6 comp stars\n",
    "#However, at least 2 comp stars is recommended\n",
    "#NOTE: color correction is not currently supported. When asked if\n",
    "#you are transforming data, type no\n",
    "mag.comp_stars()"
   ]
  },
  {
   "cell_type": "code",
   "execution_count": null,
   "metadata": {},
   "outputs": [],
   "source": [
    "#reads in the csv file\n",
    "#IMPORTANT NOTE: the file MUST be in csv format\n",
    "mag.read_file()  #Measurements422"
   ]
  },
  {
   "cell_type": "code",
   "execution_count": null,
   "metadata": {},
   "outputs": [],
   "source": [
    "#creates lists containing the calculated magnitudes and errors\n",
    "mag_list, error_list = mag.mag_calc()"
   ]
  },
  {
   "cell_type": "code",
   "execution_count": null,
   "metadata": {},
   "outputs": [],
   "source": [
    "#creates plots of the light curves for the magnitude compared to \n",
    "#each comparison star\n",
    "mag.make_plots(mag_list, error_list)"
   ]
  },
  {
   "cell_type": "markdown",
   "metadata": {},
   "source": [
    "****CBA Output****\n"
   ]
  },
  {
   "cell_type": "code",
   "execution_count": null,
   "metadata": {
    "scrolled": false
   },
   "outputs": [],
   "source": [
    "#prints the data in CBA format\n",
    "mag.CBA_print(mag_list, error_list)\n",
    "#the star used to submit data is usually 1 and the check star is usually 2.\n",
    "#After the file prints below, at the bottom there will be a prompt to print it to \n",
    "#a file that will be named CBA_SOURCE_DDMMMYYY_Measurements.txt\n"
   ]
  },
  {
   "cell_type": "markdown",
   "metadata": {},
   "source": [
    "****AAVSO Output****"
   ]
  },
  {
   "cell_type": "code",
   "execution_count": null,
   "metadata": {
    "scrolled": false
   },
   "outputs": [],
   "source": [
    "#prints the data in AAVSO format\n",
    "#NOTE: this requires at least 2 comparison stars\n",
    "mag.AAVSO_print(mag_list, error_list)\n",
    "#it will print the header and the first ten points. At the bottom there will be a prompt to print it to \n",
    "#a file that will be named AAVSO_SOURCE_DDMMMYYY_Measurements.txt"
   ]
  }
 ],
 "metadata": {
  "kernelspec": {
   "display_name": "Python 3",
   "language": "python",
   "name": "python3"
  },
  "language_info": {
   "codemirror_mode": {
    "name": "ipython",
    "version": 3
   },
   "file_extension": ".py",
   "mimetype": "text/x-python",
   "name": "python",
   "nbconvert_exporter": "python",
   "pygments_lexer": "ipython3",
   "version": "3.6.1"
  }
 },
 "nbformat": 4,
 "nbformat_minor": 2
}
